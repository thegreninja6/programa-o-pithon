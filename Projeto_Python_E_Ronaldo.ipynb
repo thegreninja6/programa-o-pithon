{
  "nbformat": 4,
  "nbformat_minor": 0,
  "metadata": {
    "colab": {
      "provenance": []
    },
    "kernelspec": {
      "name": "python3",
      "display_name": "Python 3"
    },
    "language_info": {
      "name": "python"
    }
  },
  "cells": [
    {
      "cell_type": "code",
      "execution_count": 47,
      "metadata": {
        "colab": {
          "base_uri": "https://localhost:8080/"
        },
        "id": "JQjNfV9jfZt7",
        "outputId": "e7b81612-ab37-42a1-d186-adcee98f0488"
      },
      "outputs": [
        {
          "output_type": "stream",
          "name": "stdout",
          "text": [
            "Digite o valor da sua 1ª compra: 1\n",
            "Digite o valor da sua 2ª compra: 2\n",
            "Digite o valor da sua 3ª compra: 3\n",
            "O total da compra é:  6\n",
            "O Valor da compra foi baixo\n",
            "Sua média é de:  2.0\n"
          ]
        }
      ],
      "source": [
        "compra01 = int(input(\"Digite o valor da sua 1ª compra: \"))\n",
        "compra02 = int(input(\"Digite o valor da sua 2ª compra: \"))\n",
        "compra03 = int(input(\"Digite o valor da sua 3ª compra: \"))\n",
        "total = sum([compra01, compra02, compra03])\n",
        "print(\"O total da compra é: \", total)\n",
        "if total >500:\n",
        "  print(\"O Valor da compra foi alto\")\n",
        "else:\n",
        "  print(\"O Valor da compra foi baixo\")\n",
        "\n",
        "media = total/3\n",
        "print(\"Sua média é de: \", media)"
      ]
    }
  ]
}